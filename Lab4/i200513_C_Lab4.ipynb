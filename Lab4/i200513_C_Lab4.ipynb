{
 "cells": [
  {
   "cell_type": "code",
   "execution_count": 1,
   "metadata": {},
   "outputs": [
    {
     "name": "stdout",
     "output_type": "stream",
     "text": [
      "hello\n"
     ]
    }
   ],
   "source": [
    "print(\"hello\")"
   ]
  },
  {
   "cell_type": "code",
   "execution_count": 2,
   "metadata": {},
   "outputs": [],
   "source": [
    "def printPuzzle(board):\n",
    "    for row in board:\n",
    "        print(\"-------------\")\n",
    "        print(\"|\",row[0],\"|\",row[1],\"|\",row[2],\"|\")\n",
    "    print(\"-------------\")\n",
    "    print()\n",
    "#printPuzzle(puzzle)\n",
    "\n",
    "def getNeighbours(state):\n",
    "    listToRet=[]\n",
    "    row=-1\n",
    "    col=-1\n",
    "    #Find where 0 is\n",
    "    for i in range(len(state)):\n",
    "        if row!=-1:\n",
    "            break\n",
    "        else:\n",
    "            for j in range(len(state[0])):\n",
    "                if(state[i][j]==0):\n",
    "                    row,col=i,j\n",
    "                    #print(row,\" \",col)\n",
    "                    break\n",
    "    \n",
    "    import copy\n",
    "    upState=copy.deepcopy(state)\n",
    "    downState=copy.deepcopy(state)\n",
    "    rightState=copy.deepcopy(state)\n",
    "    leftState=copy.deepcopy(state)\n",
    "\n",
    "    #move zero up in state\n",
    "    if(row>0):#can move up\n",
    "        swapNum=state[row-1][col]\n",
    "        upState[row][col]=swapNum\n",
    "        upState[row-1][col]=0\n",
    "    else:#cant move up\n",
    "        upState=-1\n",
    "    #move zero down in state\n",
    "    if(row<2):#can move down\n",
    "        swapNum=state[row+1][col]\n",
    "        downState[row][col]=swapNum\n",
    "        downState[row+1][col]=0\n",
    "    else:\n",
    "        downState=1\n",
    "    #move zero left in state\n",
    "    if(col>0):#can move left\n",
    "        swapNum=state[row][col-1]\n",
    "        leftState[row][col]=swapNum\n",
    "        leftState[row][col-1]=0\n",
    "    else:#cant move left\n",
    "        leftState=-1\n",
    "    #move zero right in state\n",
    "    if(col<2):#can move right\n",
    "        swapNum=state[row][col+1]\n",
    "        rightState[row][col]=swapNum\n",
    "        rightState[row][col+1]=0\n",
    "    else:#cant move left\n",
    "        rightState=-1\n",
    "    \n",
    "    returnDict={\n",
    "        \"u\":upState,\n",
    "        \"d\":downState,\n",
    "        \"l\":leftState,\n",
    "        \"r\":rightState\n",
    "    }\n",
    "    return returnDict\n"
   ]
  },
  {
   "cell_type": "code",
   "execution_count": 3,
   "metadata": {},
   "outputs": [],
   "source": [
    "def findPath(startingState, endingState):\n",
    "    stack=[startingState]\n",
    "    path=[]\n",
    "    path.append({\n",
    "        \"parent\":-1,\n",
    "        \"move\":\"none\",\n",
    "        \"state\":startingState\n",
    "    })\n",
    "    visited=set()\n",
    "    \n",
    "    counter=0\n",
    "    while len(stack)!=0:\n",
    "        counter+=1\n",
    "        \n",
    "        nodeToVisit=stack.pop()\n",
    "        if(nodeToVisit==endingState):\n",
    "            print(\"total iterations of while loop =\",counter)\n",
    "            print(\"visited size = \",len(visited))\n",
    "            break\n",
    "        visited.add(str(nodeToVisit))\n",
    "        neighbours=getNeighbours(nodeToVisit)\n",
    "        for neighbour in neighbours.values():\n",
    "            #printPuzzle(neighbour)\n",
    "            if(str(neighbour) not in visited):\n",
    "                if(neighbour != -1 and neighbour!=1):\n",
    "                    stack.append(neighbour)\n",
    "            \n",
    "        "
   ]
  },
  {
   "cell_type": "code",
   "execution_count": 4,
   "metadata": {},
   "outputs": [
    {
     "name": "stdout",
     "output_type": "stream",
     "text": [
      "total iterations of while loop = 24775\n",
      "visited size =  24774\n"
     ]
    }
   ],
   "source": [
    "puzzle = [\n",
    "    [0, 1, 3],\n",
    "    [4, 2, 5],\n",
    "    [6, 7, 8]\n",
    "]\n",
    "solutionMatrix=[\n",
    "    [1, 2, 3],\n",
    "    [4, 0, 5],\n",
    "    [6, 7, 8]\n",
    "]\n",
    "findPath(puzzle,solutionMatrix)"
   ]
  }
 ],
 "metadata": {
  "kernelspec": {
   "display_name": "Python 3",
   "language": "python",
   "name": "python3"
  },
  "language_info": {
   "codemirror_mode": {
    "name": "ipython",
    "version": 3
   },
   "file_extension": ".py",
   "mimetype": "text/x-python",
   "name": "python",
   "nbconvert_exporter": "python",
   "pygments_lexer": "ipython3",
   "version": "3.11.1"
  },
  "orig_nbformat": 4,
  "vscode": {
   "interpreter": {
    "hash": "1a1af0ee75eeea9e2e1ee996c87e7a2b11a0bebd85af04bb136d915cefc0abce"
   }
  }
 },
 "nbformat": 4,
 "nbformat_minor": 2
}
