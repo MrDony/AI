{
 "cells": [
  {
   "cell_type": "markdown",
   "id": "1750f82d",
   "metadata": {},
   "source": [
    "Explanation:\n",
    "\n",
    "- `defaultdict` is used to define a graph as a dictionary where each node is a key and its value is a list of its neighbors.\n",
    "- The bfs function takes a graph and a start node as arguments.\n",
    "- The queue list is used to store the nodes that need to be processed. The start node is added to the queue to start the BFS.\n",
    "- The visited set is used to store the nodes that have been processed.\n",
    "- The while loop processes each node in the queue until the queue is empty.\n",
    "- Inside the loop, the node is popped from the front of the queue and processed. If the node has not been processed yet, it is printed, added to the visited set, and its neighbors are added to the queue.\n",
    "- Finally, the bfs function is called with the graph and the start node as arguments."
   ]
  },
  {
   "cell_type": "code",
   "execution_count": 51,
   "id": "5842d2d1",
   "metadata": {},
   "outputs": [],
   "source": [
    "from collections import defaultdict\n",
    "graph = defaultdict(list)"
   ]
  },
  {
   "cell_type": "code",
   "execution_count": 52,
   "id": "524c97d0",
   "metadata": {},
   "outputs": [],
   "source": [
    "# Define a graph using a dictionary where each node is a key and its value is a list of its neighbors\n",
    "graph['A'] = ['B', 'C']\n",
    "graph['B'] = ['A', 'D', 'E']\n",
    "graph['C'] = ['A', 'F']\n",
    "graph['D'] = ['B']\n",
    "graph['E'] = ['B']\n",
    "graph['F'] = ['C', 'E']"
   ]
  },
  {
   "cell_type": "code",
   "execution_count": 53,
   "id": "f4a96515",
   "metadata": {},
   "outputs": [],
   "source": [
    "# Define a function to perform BFS\n",
    "def bfs(graph, start_node):\n",
    "    \n",
    "    # Create a queue to store the nodes to be processed\n",
    "    queue = [start_node]\n",
    "    \n",
    "    # Create a set to store the nodes that have been processed\n",
    "    visited = set()\n",
    "    \n",
    "    # Process each node in the queue\n",
    "    while queue:\n",
    "        node = queue.pop(0)\n",
    "        \n",
    "        # If the node has not been processed, process it and add its neighbors to the queue\n",
    "        if node not in visited:\n",
    "            \n",
    "            print(node, end=' ') # You can replace this with any custom processing for the node\n",
    "            visited.add(node)\n",
    "            \n",
    "            queue.extend(graph[node]) # Add the neighbors of the current node to the end of the queue"
   ]
  },
  {
   "cell_type": "code",
   "execution_count": 54,
   "id": "2341e87f",
   "metadata": {},
   "outputs": [
    {
     "name": "stdout",
     "output_type": "stream",
     "text": [
      "A B C D E F "
     ]
    }
   ],
   "source": [
    "# Call the bfs function with the graph and the start node as arguments\n",
    "bfs(graph, 'A')"
   ]
  },
  {
   "cell_type": "code",
   "execution_count": 55,
   "id": "7905aa29",
   "metadata": {},
   "outputs": [],
   "source": [
    "# Define a function to perform DFS\n",
    "def dfs(graph, node, visited):\n",
    "    \n",
    "    # If the node has not been visited, visit it and continue the DFS on its neighbors\n",
    "    if node not in visited:\n",
    "        \n",
    "        print(node, end=' ') # You can replace this with any custom processing for the node\n",
    "        visited.add(node)\n",
    "        \n",
    "        for neighbor in graph[node]:\n",
    "            dfs(graph, neighbor, visited) # Recursively call the dfs function on each unvisited neighbor of the current node"
   ]
  },
  {
   "cell_type": "code",
   "execution_count": 56,
   "id": "df078f04",
   "metadata": {},
   "outputs": [
    {
     "name": "stdout",
     "output_type": "stream",
     "text": [
      "A B D E C F "
     ]
    }
   ],
   "source": [
    "# Create a set to store the nodes that have been visited\n",
    "visited = set()\n",
    "\n",
    "# Call the dfs function with the graph, the start node, and the visited set as arguments\n",
    "dfs(graph, 'A', visited)"
   ]
  },
  {
   "cell_type": "code",
   "execution_count": 57,
   "id": "ff78975a",
   "metadata": {},
   "outputs": [],
   "source": [
    "\n",
    "def printPuzzle(board):\n",
    "    for row in board:\n",
    "        print(\"-------------\")\n",
    "        print(\"|\",row[0],\"|\",row[1],\"|\",row[2],\"|\")\n",
    "    print(\"-------------\")\n",
    "    print()\n",
    "#printPuzzle(puzzle)\n",
    "\n",
    "def getNeighbours(state):\n",
    "    listToRet=[]\n",
    "    row=-1\n",
    "    col=-1\n",
    "    #Find where 0 is\n",
    "    for i in range(len(state)):\n",
    "        if row!=-1:\n",
    "            break\n",
    "        else:\n",
    "            for j in range(len(state[0])):\n",
    "                if(state[i][j]==0):\n",
    "                    row,col=i,j\n",
    "                    #print(row,\" \",col)\n",
    "                    break\n",
    "    \n",
    "    import copy\n",
    "    upState=copy.deepcopy(state)\n",
    "    downState=copy.deepcopy(state)\n",
    "    rightState=copy.deepcopy(state)\n",
    "    leftState=copy.deepcopy(state)\n",
    "\n",
    "    #move zero up in state\n",
    "    if(row>0):#can move up\n",
    "        swapNum=state[row-1][col]\n",
    "        upState[row][col]=swapNum\n",
    "        upState[row-1][col]=0\n",
    "    else:#cant move up\n",
    "        upState=-1\n",
    "    #move zero down in state\n",
    "    if(row<2):#can move down\n",
    "        swapNum=state[row+1][col]\n",
    "        downState[row][col]=swapNum\n",
    "        downState[row+1][col]=0\n",
    "    else:\n",
    "        downState=1\n",
    "    #move zero left in state\n",
    "    if(col>0):#can move left\n",
    "        swapNum=state[row][col-1]\n",
    "        leftState[row][col]=swapNum\n",
    "        leftState[row][col-1]=0\n",
    "    else:#cant move left\n",
    "        leftState=-1\n",
    "    #move zero right in state\n",
    "    if(col<2):#can move right\n",
    "        swapNum=state[row][col+1]\n",
    "        rightState[row][col]=swapNum\n",
    "        rightState[row][col+1]=0\n",
    "    else:#cant move left\n",
    "        rightState=-1\n",
    "    \n",
    "    returnDict={\n",
    "        \"u\":upState,\n",
    "        \"d\":downState,\n",
    "        \"l\":leftState,\n",
    "        \"r\":rightState\n",
    "    }\n",
    "    return returnDict\n",
    "\n",
    "\n",
    "neighbours = getNeighbours(puzzle)"
   ]
  },
  {
   "cell_type": "markdown",
   "metadata": {},
   "source": [
    "print(\"neightbours\")\n",
    "    if(upState!=-1):\n",
    "        print(\"up\")\n",
    "        printPuzzle(upState)\n",
    "    if(downState!=-1):\n",
    "        print(\"down\")\n",
    "        printPuzzle(downState)\n",
    "    if(leftState!=-1):\n",
    "        print(\"left\")\n",
    "        printPuzzle(leftState)\n",
    "    if(rightState!=-1):\n",
    "        print(\"right\")\n",
    "        printPuzzle(rightState)"
   ]
  },
  {
   "cell_type": "code",
   "execution_count": 58,
   "id": "10c0b970",
   "metadata": {},
   "outputs": [
    {
     "name": "stdout",
     "output_type": "stream",
     "text": [
      "{'u': -1, 'd': [[4, 2, 3], [0, 1, 5], [6, 7, 8]], 'l': -1, 'r': [[2, 0, 3], [4, 1, 5], [6, 7, 8]]}\n"
     ]
    }
   ],
   "source": [
    "print(neighbours)"
   ]
  },
  {
   "cell_type": "code",
   "execution_count": 73,
   "id": "0c753019",
   "metadata": {},
   "outputs": [],
   "source": [
    "#give a function a current state and an end state\n",
    "    #make two queues in function which will have neighbours to visit and visited nodes queue\n",
    "    #push neighbours of every node in queue\n",
    "    #dequeue from to-visit queue\n",
    "    #get neighbours of that state and add in to-visit queue\n",
    "    #add state to visited queue\n",
    "    #do all this till you find the solution state (till state==solutionState)\n",
    "\n",
    "def findPath(startingState, endingState):\n",
    "    stack=[startingState]\n",
    "    path=[]\n",
    "    path.append({\n",
    "        \"parent\":-1,\n",
    "        \"move\":\"none\",\n",
    "        \"state\":startingState\n",
    "    })\n",
    "    visited=set()\n",
    "    \n",
    "    counter=0\n",
    "    while len(stack)!=0:\n",
    "        counter+=1\n",
    "        \n",
    "        nodeToVisit=stack.pop()\n",
    "        if(nodeToVisit==endingState):\n",
    "            print(\"total iterations of while loop =\",counter)\n",
    "            print(\"visited size = \",len(visited))\n",
    "            break\n",
    "        visited.add(str(nodeToVisit))\n",
    "        neighbours=getNeighbours(nodeToVisit)\n",
    "        for neighbour in neighbours.values():\n",
    "            #printPuzzle(neighbour)\n",
    "            if(str(neighbour) not in visited):\n",
    "                if(neighbour != -1 and neighbour!=1):\n",
    "                    stack.append(neighbour)\n",
    "            \n",
    "        \n"
   ]
  },
  {
   "cell_type": "code",
   "execution_count": 77,
   "id": "4d49d7d8",
   "metadata": {},
   "outputs": [
    {
     "name": "stdout",
     "output_type": "stream",
     "text": [
      "total iterations of while loop = 24775\n",
      "visited size =  24774\n"
     ]
    }
   ],
   "source": [
    "puzzle = [\n",
    "    [0, 1, 3],\n",
    "    [4, 2, 5],\n",
    "    [6, 7, 8]\n",
    "]\n",
    "solutionMatrix=[\n",
    "    [1, 2, 3],\n",
    "    [4, 0, 5],\n",
    "    [6, 7, 8]\n",
    "]\n",
    "findPath(puzzle,solutionMatrix)"
   ]
  },
  {
   "attachments": {},
   "cell_type": "markdown",
   "id": "902e0055",
   "metadata": {},
   "source": [
    "nodeToVisit=stack.pop()\n",
    "    if(nodeToVisit!=endingState):\n",
    "        neighbours=getNeighbours(neighbours)\n",
    "        if(neighbours[\"u\"]!=-1):\n",
    "            stack.append({\n",
    "                \"parent\":nodeToVisit,\n",
    "                \"move\":\"up\",\n",
    "                \"state\":neighbours['u']\n",
    "            })\n",
    "        if(neighbours[\"d\"]!=-1):\n",
    "            stack.append({\n",
    "                \"parent\":nodeToVisit,\n",
    "                \"move\":\"down\",\n",
    "                \"state\":neighbours['d']\n",
    "            })\n",
    "        if(neighbours[\"l\"]!=-1):\n",
    "            stack.append({\n",
    "                \"parent\":nodeToVisit,\n",
    "                \"move\":\"left\",\n",
    "                \"state\":neighbours['l']\n",
    "            })\n",
    "        if(neighbours[\"r\"]!=-1):\n",
    "            stack.append({\n",
    "                \"parent\":nodeToVisit,\n",
    "                \"move\":\"right\",\n",
    "                \"state\":neighbours['r']\n",
    "            })"
   ]
  },
  {
   "cell_type": "markdown",
   "id": "30df0a8d",
   "metadata": {},
   "source": [
    "<hr>"
   ]
  }
 ],
 "metadata": {
  "kernelspec": {
   "display_name": "Python 3",
   "language": "python",
   "name": "python3"
  },
  "language_info": {
   "codemirror_mode": {
    "name": "ipython",
    "version": 3
   },
   "file_extension": ".py",
   "mimetype": "text/x-python",
   "name": "python",
   "nbconvert_exporter": "python",
   "pygments_lexer": "ipython3",
   "version": "3.11.1"
  },
  "vscode": {
   "interpreter": {
    "hash": "1a1af0ee75eeea9e2e1ee996c87e7a2b11a0bebd85af04bb136d915cefc0abce"
   }
  }
 },
 "nbformat": 4,
 "nbformat_minor": 5
}
