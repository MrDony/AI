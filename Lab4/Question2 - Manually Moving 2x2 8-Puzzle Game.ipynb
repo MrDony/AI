{
 "cells": [
  {
   "cell_type": "markdown",
   "id": "f4654fec",
   "metadata": {},
   "source": [
    "Here's a brief explanation of the code:\n",
    "- The puzzle is represented as a list of lists, where `0` represents the empty square.\n",
    "- The function `print_puzzle` simply prints the puzzle in a readable format.\n",
    "- The function `shuffle_puzzle` shuffles the puzzle by randomly swapping the empty square with a neighboring square.\n",
    "- The function `is_solved` checks if the puzzle is in its solved state.\n",
    "- The puzzle is shuffled and then the program enters a loop that continues until the puzzle is solved.\n",
    "- In each iteration of the loop, the puzzle is printed and the user is asked for a move. If the user enters `q`, the program terminates.\n",
    "- The program then finds the position of the square the user wants to move and checks if it can be moved. If it can, the square and the empty square are swapped.\n",
    "- Finally, the solved puzzle is printed."
   ]
  },
  {
   "cell_type": "code",
   "execution_count": 64,
   "id": "ae6b80d4",
   "metadata": {},
   "outputs": [],
   "source": [
    "# Import random to pick random indexes\n",
    "import random\n",
    "\n",
    "# Define a goal state puzzle board representation\n",
    "puzzle = [\n",
    "    [1, 2, 3],\n",
    "    [4, 0, 5],\n",
    "    [6, 7, 8]\n",
    "]\n",
    "solutionMatrix=[\n",
    "    [1, 2, 3],\n",
    "    [4, 0, 5],\n",
    "    [6, 7, 8]\n",
    "]"
   ]
  },
  {
   "cell_type": "code",
   "execution_count": 65,
   "id": "49ff409d",
   "metadata": {},
   "outputs": [
    {
     "name": "stdout",
     "output_type": "stream",
     "text": [
      "-------------\n",
      "| 1 | 2 | 3 |\n",
      "-------------\n",
      "| 4 | 0 | 5 |\n",
      "-------------\n",
      "| 6 | 7 | 8 |\n",
      "-------------\n",
      "\n"
     ]
    }
   ],
   "source": [
    "# To print the puzzle's row-wise items\n",
    "def printPuzzle(board):\n",
    "    for row in board:\n",
    "        print(\"-------------\")\n",
    "        print(\"|\",row[0],\"|\",row[1],\"|\",row[2],\"|\")\n",
    "    print(\"-------------\")\n",
    "    print()\n",
    "printPuzzle(puzzle)"
   ]
  },
  {
   "cell_type": "code",
   "execution_count": 66,
   "id": "bb84b165",
   "metadata": {},
   "outputs": [],
   "source": [
    "# Define a function to shuffle the puzzle\n",
    "def shufflePuzzle(board):\n",
    "    \n",
    "    # Get the initial number of rows and columns in the puzzle\n",
    "    rows = len(board)\n",
    "    cols = len(board[0])\n",
    "    # Find the position of the empty square\n",
    "    empty_row, empty_col = None, None\n",
    "    for i in range(rows):\n",
    "        for j in range(cols):\n",
    "            if board[i][j] == 0:\n",
    "                empty_row, empty_col = i, j\n",
    "                break\n",
    "    \n",
    "    # Shuffle the puzzle by randomly swapping the empty square with a neighboring square\n",
    "    for i in range(100):\n",
    "        row = random.randint(-1, 1) + empty_row\n",
    "        col = random.randint(-1, 1) + empty_col\n",
    "        \n",
    "        # Picked row and column is between the defined range\n",
    "        if 0 <= row < rows and 0 <= col < cols:\n",
    "            board[empty_row][empty_col], board[row][col] = board[row][col], board[empty_row][empty_col]\n",
    "            empty_row, empty_col = row, col\n"
   ]
  },
  {
   "cell_type": "code",
   "execution_count": 67,
   "id": "96265925",
   "metadata": {},
   "outputs": [],
   "source": [
    "# Define a function to check if the puzzle is solved\n",
    "def isSolved(board):\n",
    "    \n",
    "    # Observe the goal state puzzle and solution are the same in this case\n",
    "    solution = [\n",
    "        [1, 2, 3],\n",
    "        [4, 0, 5],\n",
    "        [6, 7, 8]\n",
    "    ]\n",
    "    \n",
    "    # Returns true or false\n",
    "    return board == solution"
   ]
  },
  {
   "cell_type": "code",
   "execution_count": 68,
   "id": "97c4de97",
   "metadata": {},
   "outputs": [
    {
     "name": "stdout",
     "output_type": "stream",
     "text": [
      "BEFORE\n",
      "-------------\n",
      "| 1 | 2 | 3 |\n",
      "-------------\n",
      "| 4 | 0 | 5 |\n",
      "-------------\n",
      "| 6 | 7 | 8 |\n",
      "-------------\n",
      "\n",
      "AFTER\n",
      "-------------\n",
      "| 0 | 5 | 2 |\n",
      "-------------\n",
      "| 1 | 6 | 3 |\n",
      "-------------\n",
      "| 7 | 4 | 8 |\n",
      "-------------\n",
      "\n"
     ]
    }
   ],
   "source": [
    "# Shuffle the puzzle\n",
    "print(\"BEFORE\")\n",
    "printPuzzle(puzzle)\n",
    "\n",
    "shufflePuzzle(puzzle)\n",
    "\n",
    "print(\"AFTER\")\n",
    "printPuzzle(puzzle)"
   ]
  },
  {
   "cell_type": "code",
   "execution_count": 69,
   "id": "c4061ad9",
   "metadata": {},
   "outputs": [
    {
     "name": "stdout",
     "output_type": "stream",
     "text": [
      "-------------\n",
      "| 0 | 5 | 2 |\n",
      "-------------\n",
      "| 1 | 6 | 3 |\n",
      "-------------\n",
      "| 7 | 4 | 8 |\n",
      "-------------\n",
      "\n",
      "-------------\n",
      "| 1 | 5 | 2 |\n",
      "-------------\n",
      "| 0 | 6 | 3 |\n",
      "-------------\n",
      "| 7 | 4 | 8 |\n",
      "-------------\n",
      "\n",
      "-------------\n",
      "| 0 | 5 | 2 |\n",
      "-------------\n",
      "| 1 | 6 | 3 |\n",
      "-------------\n",
      "| 7 | 4 | 8 |\n",
      "-------------\n",
      "\n",
      "-------------\n",
      "| 1 | 5 | 2 |\n",
      "-------------\n",
      "| 0 | 6 | 3 |\n",
      "-------------\n",
      "| 7 | 4 | 8 |\n",
      "-------------\n",
      "\n",
      "-------------\n",
      "| 0 | 5 | 2 |\n",
      "-------------\n",
      "| 1 | 6 | 3 |\n",
      "-------------\n",
      "| 7 | 4 | 8 |\n",
      "-------------\n",
      "\n",
      "-------------\n",
      "| 1 | 5 | 2 |\n",
      "-------------\n",
      "| 0 | 6 | 3 |\n",
      "-------------\n",
      "| 7 | 4 | 8 |\n",
      "-------------\n",
      "\n"
     ]
    },
    {
     "ename": "ValueError",
     "evalue": "invalid literal for int() with base 10: ''",
     "output_type": "error",
     "traceback": [
      "\u001b[0;31m---------------------------------------------------------------------------\u001b[0m",
      "\u001b[0;31mValueError\u001b[0m                                Traceback (most recent call last)",
      "Cell \u001b[0;32mIn[69], line 9\u001b[0m\n\u001b[1;32m      7\u001b[0m \u001b[39mif\u001b[39;00m theMove \u001b[39m==\u001b[39m \u001b[39m\"\u001b[39m\u001b[39mq\u001b[39m\u001b[39m\"\u001b[39m:\n\u001b[1;32m      8\u001b[0m     \u001b[39mbreak\u001b[39;00m\n\u001b[0;32m----> 9\u001b[0m theMove \u001b[39m=\u001b[39m \u001b[39mint\u001b[39;49m(theMove)\n\u001b[1;32m     11\u001b[0m \u001b[39m# Find the position of the square to move\u001b[39;00m\n\u001b[1;32m     12\u001b[0m row, col \u001b[39m=\u001b[39m \u001b[39mNone\u001b[39;00m, \u001b[39mNone\u001b[39;00m\n",
      "\u001b[0;31mValueError\u001b[0m: invalid literal for int() with base 10: ''"
     ]
    }
   ],
   "source": [
    "# Loop until the puzzle is solved\n",
    "while not isSolved(puzzle):\n",
    "    printPuzzle(puzzle)\n",
    "    \n",
    "    # Ask the user for a move\n",
    "    theMove = input(\"Enter the number you want to move (or q to quit): \")\n",
    "    if theMove == \"q\":\n",
    "        break\n",
    "    theMove = int(theMove)\n",
    "    \n",
    "    # Find the position of the square to move\n",
    "    row, col = None, None\n",
    "    for i in range(len(puzzle)):\n",
    "        for j in range(len(puzzle[0])):\n",
    "            if puzzle[i][j] == theMove:\n",
    "                row, col = i, j\n",
    "                break\n",
    "    \n",
    "    # Check if the square can be moved\n",
    "    if row is not None:\n",
    "        # Check if the empty square is above the selected square\n",
    "        if row > 0 and puzzle[row-1][col] == 0:\n",
    "            # Swap the selected square and the empty square\n",
    "            puzzle[row][col], puzzle[row-1][col] = puzzle[row-1][col], puzzle[row][col]\n",
    "        # Check if the empty square is below the selected square\n",
    "        elif row < len(puzzle) - 1 and puzzle[row+1][col] == 0:\n",
    "            # Swap the selected square and the empty square\n",
    "            puzzle[row][col], puzzle[row+1][col] = puzzle[row+1][col], puzzle[row][col]\n",
    "        # Check if the empty square is to the left of the selected square\n",
    "        elif col > 0 and puzzle[row][col-1] == 0:\n",
    "            # Swap the selected square and the empty square\n",
    "            puzzle[row][col], puzzle[row][col-1] = puzzle[row][col-1], puzzle[row][col]\n",
    "        # Check if the empty square is to the right of the selected square\n",
    "        elif col < len(puzzle[0]) - 1 and puzzle[row][col+1] == 0:\n",
    "            # Swap the selected square and the empty square\n",
    "            puzzle[row][col], puzzle[row][col+1] = puzzle[row][col+1], puzzle[row][col]\n"
   ]
  },
  {
   "cell_type": "code",
   "execution_count": null,
   "id": "0aeb7ded",
   "metadata": {
    "scrolled": true
   },
   "outputs": [
    {
     "name": "stdout",
     "output_type": "stream",
     "text": [
      "---------\n",
      "| 1 | 2 |\n",
      "---------\n",
      "| 3 | 0 |\n",
      "---------\n",
      "\n"
     ]
    }
   ],
   "source": [
    "printPuzzle(puzzle)\n",
    "printPuzzle(solutionMatrix)"
   ]
  }
 ],
 "metadata": {
  "kernelspec": {
   "display_name": "Python 3",
   "language": "python",
   "name": "python3"
  },
  "language_info": {
   "codemirror_mode": {
    "name": "ipython",
    "version": 3
   },
   "file_extension": ".py",
   "mimetype": "text/x-python",
   "name": "python",
   "nbconvert_exporter": "python",
   "pygments_lexer": "ipython3",
   "version": "3.11.1"
  },
  "vscode": {
   "interpreter": {
    "hash": "1a1af0ee75eeea9e2e1ee996c87e7a2b11a0bebd85af04bb136d915cefc0abce"
   }
  }
 },
 "nbformat": 4,
 "nbformat_minor": 5
}
