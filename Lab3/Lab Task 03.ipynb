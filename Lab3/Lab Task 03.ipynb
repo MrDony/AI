{
 "cells": [
  {
   "cell_type": "markdown",
   "metadata": {},
   "source": [
    "# THE VACUUM WORLD   \n",
    "\n",
    "In this notebook, we will be discussing **the structure of agents** through an example of the **vacuum agent**. The job of AI is to design an **agent program** that implements the agent function: the mapping from percepts to actions. We assume this program will run on some sort of computing device with physical sensors and actuators: we call this the **architecture**:\n",
    "\n",
    "<h3 align=\"center\">agent = architecture + program</h3>"
   ]
  },
  {
   "cell_type": "markdown",
   "metadata": {},
   "source": [
    "## CONTENTS\n",
    "\n",
    "* Agent\n",
    "* Random Agent Program\n",
    "* Table-Driven Agent Program\n",
    "* Simple Reflex Agent Program\n",
    "* Model-Based Reflex Agent Program\n",
    "* Goal-Based Agent Program\n",
    "* Utility-Based Agent Program\n",
    "* Learning Agent"
   ]
  },
  {
   "cell_type": "markdown",
   "metadata": {},
   "source": [
    "## AGENT PROGRAMS\n",
    "\n",
    "An agent program takes the current percept as input from the sensors and returns an action to the actuators. There is a difference between an agent program and an agent function: an agent program takes the current percept as input whereas an agent function takes the entire percept history.\n",
    "\n",
    "The agent program takes just the current percept as input because nothing more is available from the environment; if the agent's actions depend on the entire percept sequence, the agent will have to remember the percept.\n",
    "\n",
    "We'll discuss the following agent programs here with the help of the vacuum world example:\n",
    "\n",
    "* Random Agent Program\n",
    "* Table-Driven Agent Program\n",
    "* Simple Reflex Agent Program\n",
    "* Model-Based Reflex Agent Program\n",
    "* Goal-Based Agent Program\n",
    "* Utility-Based Agent Program"
   ]
  },
  {
   "cell_type": "markdown",
   "metadata": {},
   "source": [
    "## Random Agent Program\n",
    "\n",
    "A random agent program, as the name suggests, chooses an action at random, without taking into account the percepts.   \n",
    "Here, we will demonstrate a random vacuum agent for a trivial vacuum environment, that is, the two-state environment."
   ]
  },
  {
   "cell_type": "markdown",
   "metadata": {},
   "source": [
    "Let's begin by importing all the functions from the agents module:"
   ]
  },
  {
   "cell_type": "code",
   "execution_count": 467,
   "metadata": {},
   "outputs": [],
   "source": [
    "#import the agents modules\n",
    "from agents_modules import *\n",
    "# import the psource module to display the source code of the agents modules \n",
    "# from notebook import psource\n",
    "#psource(TrivialVacuumEnvironment)"
   ]
  },
  {
   "cell_type": "code",
   "execution_count": 468,
   "metadata": {},
   "outputs": [
    {
     "name": "stdout",
     "output_type": "stream",
     "text": [
      "Env state: {(0, 0): 'Clean', (1, 0): 'Dirty'}.\n"
     ]
    }
   ],
   "source": [
    "# These are the two locations for the two-state environment\n",
    "loc_A, loc_B = (0, 0), (1, 0)\n",
    "\n",
    "# Initialize the two-state environment making an object of the TrivialVacuumEnvironment class given in agents_modules.py\n",
    "trivVacEnv = TrivialVacuumEnvironment()\n",
    "\n",
    "# print the initial state of the environment\n",
    "print(\"Env state: {}.\".format(trivVacEnv.status))\n"
   ]
  },
  {
   "cell_type": "markdown",
   "metadata": {},
   "source": [
    "Let's create our agent now. This agent will choose any of the actions from 'Right', 'Left', 'Suck' and 'NoOp' (No Operation) randomly."
   ]
  },
  {
   "cell_type": "code",
   "execution_count": 469,
   "metadata": {},
   "outputs": [],
   "source": [
    "# Create the random agent by passing RandomAgentProgram's output as an argument\n",
    "randAgent = Agent(program=RandomAgentProgram(['Right', 'Left', 'Suck', 'NoOp']))\n"
   ]
  },
  {
   "cell_type": "markdown",
   "metadata": {},
   "source": [
    "We will now add our agent to the environment."
   ]
  },
  {
   "cell_type": "code",
   "execution_count": 470,
   "metadata": {},
   "outputs": [
    {
     "name": "stdout",
     "output_type": "stream",
     "text": [
      "RandomVacc Loc: (0, 0).\n"
     ]
    }
   ],
   "source": [
    "# Add agent to the environment by function calling using the object of TrivialVacuumEnvironment class\n",
    "trivVacEnv.add_thing(randAgent)\n",
    "# print the current location of random agent\n",
    "print(\"RandomVacc Loc: {}.\".format(randAgent.location))\n",
    "\n"
   ]
  },
  {
   "cell_type": "markdown",
   "metadata": {},
   "source": [
    "Let's run our environment now."
   ]
  },
  {
   "cell_type": "code",
   "execution_count": 471,
   "metadata": {},
   "outputs": [
    {
     "name": "stdout",
     "output_type": "stream",
     "text": [
      "Env state: {(0, 0): 'Clean', (1, 0): 'Dirty'}.\n",
      "RandomVacc Loc: (0, 0).\n"
     ]
    }
   ],
   "source": [
    "# Running the Environment using TrivialVacuumEnvironment class obj \n",
    "trivVacEnv.step()\n",
    "\n",
    "# Check the current state of the environment\n",
    "print(\"Env state: {}.\".format(trivVacEnv.status))\n",
    "# check the current location of random agent\n",
    "print(\"RandomVacc Loc: {}.\".format(randAgent.location))"
   ]
  },
  {
   "cell_type": "markdown",
   "metadata": {},
   "source": [
    "## TABLE-DRIVEN AGENT PROGRAM\n",
    "\n",
    "A table-driven agent program keeps track of the percept sequence and then uses it to index into a table of actions to decide what to do. The table represents explicitly the agent function that the agent program embodies.  \n",
    "In the two-state vacuum world, the table would consist of all the possible states of the agent."
   ]
  },
  {
   "cell_type": "code",
   "execution_count": 472,
   "metadata": {},
   "outputs": [],
   "source": [
    "table = {((loc_A, 'Clean'),): 'Right',\n",
    "             ((loc_A, 'Dirty'),): 'Suck',\n",
    "             ((loc_B, 'Clean'),): 'Left',\n",
    "             ((loc_B, 'Dirty'),): 'Suck',\n",
    "             ((loc_A, 'Dirty'), (loc_A, 'Clean')): 'Right',\n",
    "             ((loc_A, 'Clean'), (loc_B, 'Dirty')): 'Suck',\n",
    "             ((loc_B, 'Clean'), (loc_A, 'Dirty')): 'Suck',\n",
    "             ((loc_B, 'Dirty'), (loc_B, 'Clean')): 'Left',\n",
    "             ((loc_A, 'Dirty'), (loc_A, 'Clean'), (loc_B, 'Dirty')): 'Suck',\n",
    "             ((loc_B, 'Dirty'), (loc_B, 'Clean'), (loc_A, 'Dirty')): 'Suck'\n",
    "        }"
   ]
  },
  {
   "cell_type": "markdown",
   "metadata": {},
   "source": [
    "We will now create a table-driven agent program for our two-state environment."
   ]
  },
  {
   "cell_type": "code",
   "execution_count": 473,
   "metadata": {},
   "outputs": [],
   "source": [
    "# Create a table-driven agent\n",
    "tableDrivAgent = Agent(program=TableDrivenAgentProgram(table=table))"
   ]
  },
  {
   "cell_type": "markdown",
   "metadata": {},
   "source": [
    "Since we are using the same environment, let's remove the previously added random agent from the environment to avoid confusion."
   ]
  },
  {
   "cell_type": "code",
   "execution_count": 474,
   "metadata": {},
   "outputs": [],
   "source": [
    "# delete the random agent from the environment\n",
    "trivVacEnv.delete_thing(randAgent)"
   ]
  },
  {
   "cell_type": "code",
   "execution_count": 475,
   "metadata": {},
   "outputs": [
    {
     "name": "stdout",
     "output_type": "stream",
     "text": [
      "Env state: {(0, 0): 'Clean', (1, 0): 'Dirty'}.\n",
      "RandomVacc Loc: (0, 0).\n"
     ]
    }
   ],
   "source": [
    "# Add the table-driven agent to the environment\n",
    "trivVacEnv.add_thing(tableDrivAgent)\n",
    "\n",
    "# Check the current state of the environment\n",
    "print(\"Env state: {}.\".format(trivVacEnv.status))\n",
    "# check the current location of random agent\n",
    "print(\"RandomVacc Loc: {}.\".format(randAgent.location))"
   ]
  },
  {
   "cell_type": "code",
   "execution_count": 476,
   "metadata": {},
   "outputs": [
    {
     "name": "stdout",
     "output_type": "stream",
     "text": [
      "Env state: {(0, 0): 'Clean', (1, 0): 'Clean'}.\n",
      "TableDrivenVacuumAgent is located at (1, 0).\n"
     ]
    }
   ],
   "source": [
    "# Run the environment now hacing new agent\n",
    "trivVacEnv.step()\n",
    "# Check the current state of the environment\n",
    "print(\"Env state: {}.\".format(trivVacEnv.status))\n",
    "# check the current location of table driven agent\n",
    "print(\"TableDrivenVacuumAgent is located at {}.\".format(tableDrivAgent.location))"
   ]
  },
  {
   "attachments": {},
   "cell_type": "markdown",
   "metadata": {},
   "source": [
    "## SIMPLE REFLEX AGENT PROGRAM\n",
    "\n",
    "A simple reflex agent program selects actions on the basis of the *current* percept, ignoring the rest of the percept history. These agents work on a **condition-action rule** (also called **situation-action rule**, **production** or **if-then rule**), which tells the agent the action to trigger when a particular situation is encountered.  \n",
    "\n",
    "\n"
   ]
  },
  {
   "cell_type": "markdown",
   "metadata": {},
   "source": [
    "Let us now create a simple reflex agent for the environment."
   ]
  },
  {
   "cell_type": "code",
   "execution_count": 477,
   "metadata": {},
   "outputs": [],
   "source": [
    "# Delete the previously added table-driven agent from the env\n",
    "trivVacEnv.delete_thing(tableDrivAgent)"
   ]
  },
  {
   "cell_type": "code",
   "execution_count": 478,
   "metadata": {},
   "outputs": [],
   "source": [
    "\n",
    "loc_A = (0, 0)\n",
    "loc_B = (1, 0)\n",
    "\n",
    "\n",
    "def SimpleReflexAgentProgram():\n",
    "    \n",
    "    def program(percept):\n",
    "        loc, status = percept\n",
    "        return ('Suck' if status == 'Dirty' \n",
    "                else'Right' if loc == loc_A \n",
    "                            else'Left')\n",
    "    return program\n",
    "    \n",
    "# Create a simple reflex agent\n",
    "program = SimpleReflexAgentProgram()\n",
    "simpReflexAgent = Agent(program)"
   ]
  },
  {
   "cell_type": "markdown",
   "metadata": {},
   "source": [
    "Now add the agent to the environment:"
   ]
  },
  {
   "cell_type": "code",
   "execution_count": 479,
   "metadata": {},
   "outputs": [
    {
     "name": "stdout",
     "output_type": "stream",
     "text": [
      "Env state: {(0, 0): 'Clean', (1, 0): 'Clean'}.\n",
      "RandomVacc Loc: (0, 0).\n"
     ]
    }
   ],
   "source": [
    "# add the simpReflexAgent to the environment\n",
    "trivVacEnv.add_thing(simpReflexAgent)\n",
    "\n",
    "\n",
    "# Check the current state of the environment\n",
    "print(\"Env state: {}.\".format(trivVacEnv.status))\n",
    "# check the current location of random agent\n",
    "print(\"RandomVacc Loc: {}.\".format(randAgent.location))"
   ]
  },
  {
   "cell_type": "code",
   "execution_count": 480,
   "metadata": {},
   "outputs": [
    {
     "name": "stdout",
     "output_type": "stream",
     "text": [
      "Env state: {(0, 0): 'Clean', (1, 0): 'Clean'}.\n",
      "RandomVacc Loc: (0, 0).\n"
     ]
    }
   ],
   "source": [
    "# Run the environment with simpReflexAgent\n",
    "trivVacEnv.step()\n",
    "# Check the current state of the environment\n",
    "print(\"Env state: {}.\".format(trivVacEnv.status))\n",
    "# check the current location of random agent\n",
    "print(\"RandomVacc Loc: {}.\".format(randAgent.location))"
   ]
  },
  {
   "attachments": {},
   "cell_type": "markdown",
   "metadata": {},
   "source": [
    "## MODEL-BASED REFLEX AGENT PROGRAM\n",
    "\n",
    "A model-based reflex agent maintains some sort of **internal state** that depends on the percept history and thereby reflects at least some of the unobserved aspects of the current state. In addition to this, it also requires a **model** of the world, that is, knowledge about \"how the world works\".\n",
    "\n"
   ]
  },
  {
   "cell_type": "markdown",
   "metadata": {},
   "source": [
    "We will now create a model-based reflex agent for the environment:"
   ]
  },
  {
   "cell_type": "code",
   "execution_count": 481,
   "metadata": {},
   "outputs": [],
   "source": [
    "# Delete the previously added simple reflex agent\n",
    "trivVacEnv.delete_thing(simpReflexAgent)"
   ]
  },
  {
   "cell_type": "markdown",
   "metadata": {},
   "source": [
    "We need another function UPDATE-STATE which will be responsible for creating a new state description."
   ]
  },
  {
   "cell_type": "code",
   "execution_count": 482,
   "metadata": {},
   "outputs": [
    {
     "ename": "TypeError",
     "evalue": "ModelBasedReflexAgentProgram() missing 3 required positional arguments: 'rules', 'update_state', and 'model'",
     "output_type": "error",
     "traceback": [
      "\u001b[0;31m---------------------------------------------------------------------------\u001b[0m",
      "\u001b[0;31mTypeError\u001b[0m                                 Traceback (most recent call last)",
      "Cell \u001b[0;32mIn[482], line 6\u001b[0m\n\u001b[1;32m      3\u001b[0m     \u001b[39mpass\u001b[39;00m\n\u001b[1;32m      5\u001b[0m \u001b[39m# Create a model-based reflex agent\u001b[39;00m\n\u001b[0;32m----> 6\u001b[0m model_based_reflex_agent \u001b[39m=\u001b[39m ModelBasedReflexAgentProgram()\n\u001b[1;32m      8\u001b[0m \u001b[39m# Add the agent to the environment\u001b[39;00m\n\u001b[1;32m      9\u001b[0m trivVacEnv\u001b[39m.\u001b[39madd_thing(model_based_reflex_agent)\n",
      "\u001b[0;31mTypeError\u001b[0m: ModelBasedReflexAgentProgram() missing 3 required positional arguments: 'rules', 'update_state', and 'model'"
     ]
    }
   ],
   "source": [
    "# TODO: Implement this function for the two-dimensional environment\n",
    "def update_state(state, action, percept, model):\n",
    "    pass\n",
    "\n",
    "# Create a model-based reflex agent\n",
    "model_based_reflex_agent = ModelBasedReflexAgentProgram()\n",
    "\n",
    "# Add the agent to the environment\n",
    "trivVacEnv.add_thing(model_based_reflex_agent)\n",
    "\n",
    "print(\"ModelBasedVacuumAgent is located at {}.\".format(model_based_reflex_agent.location))"
   ]
  },
  {
   "cell_type": "code",
   "execution_count": null,
   "metadata": {},
   "outputs": [],
   "source": [
    "# Run the environment\n",
    "trivVacEnv.step()\n",
    "\n",
    "# Check the current state of the environment\n",
    "print(\"Env state: {}.\".format(trivVacEnv.status))\n",
    "\n",
    "print(\"ModelBasedVacuumAgent is located at {}.\".format(model_based_reflex_agent.location))"
   ]
  },
  {
   "attachments": {},
   "cell_type": "markdown",
   "metadata": {},
   "source": [
    "## GOAL-BASED AGENT PROGRAM\n",
    "\n",
    "A goal-based agent needs some sort of **goal** information that describes situations that are desirable, apart from the current state description.\n",
    "\n",
    "\n",
    "\n",
    "**Search** (Chapters 3 to 5) and **Planning** (Chapters 10 to 11) are the subfields of AI devoted to finding action sequences that achieve the agent's goals.\n",
    "\n",
    "## UTILITY-BASED AGENT PROGRAM\n",
    "\n",
    "A utility-based agent maximizes its **utility** using the agent's **utility function**, which is essentially an internalization of the agent's performance measure.\n",
    "\n"
   ]
  },
  {
   "attachments": {},
   "cell_type": "markdown",
   "metadata": {},
   "source": [
    "## LEARNING AGENT\n",
    "\n",
    "Learning allows the agent to operate in initially unknown environments and to become more competent than its initial knowledge alone might allow. Here, we will breifly introduce the main ideas of learning agents.  \n",
    "\n",
    "A learning agent can be divided into four conceptual components. The **learning element** is responsible for making improvements. It uses the feedback from the **critic** on how the agent is doing and determines how the performance element should be modified to do better in the future. The **performance element** is responsible for selecting external actions for the agent: it takes in percepts and decides on actions. The critic tells the learning element how well the agent is doing with respect to a fixed performance standard. It is necesaary because the percepts themselves provide no indication of the agent's success. The last component of the learning agent is the **problem generator**. It is responsible for suggesting actions that will lead to new and informative experiences.  \n"
   ]
  },
  {
   "cell_type": "markdown",
   "metadata": {},
   "source": []
  }
 ],
 "metadata": {
  "kernelspec": {
   "display_name": "Python 3",
   "language": "python",
   "name": "python3"
  },
  "language_info": {
   "codemirror_mode": {
    "name": "ipython",
    "version": 3
   },
   "file_extension": ".py",
   "mimetype": "text/x-python",
   "name": "python",
   "nbconvert_exporter": "python",
   "pygments_lexer": "ipython3",
   "version": "3.9.6"
  },
  "vscode": {
   "interpreter": {
    "hash": "31f2aee4e71d21fbe5cf8b01ff0e069b9275f58929596ceb00d14d90e3e16cd6"
   }
  }
 },
 "nbformat": 4,
 "nbformat_minor": 2
}
