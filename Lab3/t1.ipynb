{
 "cells": [
  {
   "attachments": {},
   "cell_type": "markdown",
   "metadata": {},
   "source": [
    "LAB 3 Monday 6th Feb 2023\n",
    "Using PEAS: Perception Environment Agent Sensor"
   ]
  },
  {
   "cell_type": "code",
   "execution_count": 47,
   "metadata": {},
   "outputs": [
    {
     "name": "stdout",
     "output_type": "stream",
     "text": [
      "[['Abdullah' 'Sad']\n",
      " ['Hammad' 'Depressed']\n",
      " ['Zain' 'Upset']]\n",
      "['Abdullah' 'Sad']\n",
      "['Hammad' 'Depressed']\n",
      "['Zain' 'Upset']\n"
     ]
    }
   ],
   "source": [
    "import pandas as pd\n",
    "data=pd.read_csv('names_state.csv',delimiter=',')\n",
    "array = data.values\n",
    "print(array)\n",
    "for i in array:\n",
    "    print(i)"
   ]
  },
  {
   "cell_type": "code",
   "execution_count": 48,
   "metadata": {},
   "outputs": [
    {
     "name": "stdout",
     "output_type": "stream",
     "text": [
      "{'Ammar': 'Angry', 'Abdullah': 'Sad', 'Hammad': 'Depressed', 'Zain': 'Upset'}\n",
      "{'Angry': 'Shout', 'Sad': 'Cry', 'Depressed': 'Suicide', 'Upset': 'Silent'}\n"
     ]
    }
   ],
   "source": [
    "import csv\n",
    "\n",
    "def read_csv(file_path):\n",
    "    with open(file_path, 'r') as file:\n",
    "        reader = csv.reader(file)\n",
    "        data = {}\n",
    "        for row in reader:\n",
    "            data[row[0]] = row[1]\n",
    "    return data\n",
    "\n",
    "file_path = './names_state.csv'\n",
    "name_state = read_csv(file_path)\n",
    "print(name_state)\n",
    "file_path = './state_reflex.csv'\n",
    "state_reflex=read_csv(file_path)\n",
    "print(state_reflex)"
   ]
  },
  {
   "cell_type": "code",
   "execution_count": 49,
   "metadata": {},
   "outputs": [
    {
     "name": "stdout",
     "output_type": "stream",
     "text": [
      "Shout\n"
     ]
    }
   ],
   "source": [
    "def getReflex(PersonName):\n",
    "    return state_reflex[name_state[PersonName]]\n",
    "print(getReflex('Ammar'))"
   ]
  },
  {
   "cell_type": "code",
   "execution_count": 71,
   "metadata": {},
   "outputs": [
    {
     "name": "stdout",
     "output_type": "stream",
     "text": [
      "You are traveling between locations:\n",
      "A\n",
      "B\n",
      "Total apples:  30\n",
      "Apples per trip:  10\n",
      "Tax per Trip:  1\n",
      "\n",
      "Trip Count:  1\n",
      "Apple Count : 20\n",
      "Delivered:  9\n",
      "Trip Count:  1\n",
      "Apple Count : 10\n",
      "Delivered:  9\n",
      "Trip Count:  1\n",
      "Apple Count : 0\n",
      "Delivered:  9\n"
     ]
    }
   ],
   "source": [
    "import json\n",
    "\n",
    "with open(\"apples.json\", \"r\") as f:\n",
    "    data_apples = json.load(f)\n",
    "\n",
    "data_dict = dict(data_apples)\n",
    "print(\"You are traveling between locations:\")\n",
    "for i in data_dict[\"Locations\"]:\n",
    "    print(data_dict[\"Locations\"][i])\n",
    "print(\"Total apples: \",data_dict[\"ApplesCount\"])\n",
    "print(\"Apples per trip: \",data_dict[\"ApplesPerTrip\"])\n",
    "print(\"Tax per Trip: \",data_dict[\"Tax\"])\n",
    "tripCount=1\n",
    "delivered=0\n",
    "print(\"\")\n",
    "while(data_dict[\"ApplesCount\"]>0):\n",
    "    print(\"Trip Count: \",tripCount)\n",
    "    data_dict[\"ApplesCount\"]=data_dict[\"ApplesCount\"]-10\n",
    "    delivered=10-data_dict[\"Tax\"]\n",
    "    print(\"Apple Count :\",data_dict[\"ApplesCount\"])\n",
    "    print(\"Delivered: \",delivered)\n",
    "\n",
    "\n"
   ]
  },
  {
   "cell_type": "code",
   "execution_count": null,
   "metadata": {},
   "outputs": [],
   "source": []
  }
 ],
 "metadata": {
  "kernelspec": {
   "display_name": "Python 3",
   "language": "python",
   "name": "python3"
  },
  "language_info": {
   "codemirror_mode": {
    "name": "ipython",
    "version": 3
   },
   "file_extension": ".py",
   "mimetype": "text/x-python",
   "name": "python",
   "nbconvert_exporter": "python",
   "pygments_lexer": "ipython3",
   "version": "3.9.6"
  },
  "orig_nbformat": 4,
  "vscode": {
   "interpreter": {
    "hash": "31f2aee4e71d21fbe5cf8b01ff0e069b9275f58929596ceb00d14d90e3e16cd6"
   }
  }
 },
 "nbformat": 4,
 "nbformat_minor": 2
}
