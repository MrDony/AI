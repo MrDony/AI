{
 "cells": [
  {
   "cell_type": "code",
   "execution_count": 5,
   "id": "22f56832",
   "metadata": {},
   "outputs": [
    {
     "name": "stdout",
     "output_type": "stream",
     "text": [
      "Position: (0, 0, 0)\n",
      "Velocity: (10, 20, 30)\n",
      "New Position: (1, 2, 3)\n",
      "New Velocity: (11, 22, 33)\n"
     ]
    }
   ],
   "source": [
    "class Rocket:\n",
    "    def __init__(self, x, y, z, vx, vy, vz):\n",
    "        self.x = x\n",
    "        self.y = y\n",
    "        self.z = z\n",
    "        self.vx = vx\n",
    "        self.vy = vy\n",
    "        self.vz = vz\n",
    "\n",
    "    def get_position(self):\n",
    "        return self.x, self.y, self.z\n",
    "\n",
    "    def get_velocity(self):\n",
    "        return self.vx, self.vy, self.vz\n",
    "\n",
    "    def set_position(self, x, y, z):\n",
    "        self.x = x\n",
    "        self.y = y\n",
    "        self.z = z\n",
    "\n",
    "    def set_velocity(self, vx, vy, vz):\n",
    "        self.vx = vx\n",
    "        self.vy = vy\n",
    "        self.vz = vz\n",
    "\n",
    "rocket = Rocket(0, 0, 0, 10, 20, 30)\n",
    "print(\"Position:\", rocket.get_position())\n",
    "print(\"Velocity:\", rocket.get_velocity())\n",
    "\n",
    "rocket.set_position(1, 2, 3)\n",
    "rocket.set_velocity(11, 22, 33)\n",
    "\n",
    "print(\"New Position:\", rocket.get_position())\n",
    "print(\"New Velocity:\", rocket.get_velocity())\n"
   ]
  },
  {
   "cell_type": "code",
   "execution_count": 7,
   "id": "52c91f32",
   "metadata": {},
   "outputs": [
    {
     "ename": "ModuleNotFoundError",
     "evalue": "No module named 'numpy'",
     "output_type": "error",
     "traceback": [
      "\u001b[0;31m---------------------------------------------------------------------------\u001b[0m",
      "\u001b[0;31mModuleNotFoundError\u001b[0m                       Traceback (most recent call last)",
      "Cell \u001b[0;32mIn[7], line 1\u001b[0m\n\u001b[0;32m----> 1\u001b[0m \u001b[38;5;28;01mimport\u001b[39;00m \u001b[38;5;21;01mnumpy\u001b[39;00m \u001b[38;5;28;01mas\u001b[39;00m \u001b[38;5;21;01mnp\u001b[39;00m\n\u001b[1;32m      2\u001b[0m v\u001b[38;5;241m=\u001b[39mnp\u001b[38;5;241m.\u001b[39marray([\u001b[38;5;241m1\u001b[39m,\u001b[38;5;241m2\u001b[39m,\u001b[38;5;241m2\u001b[39m,\u001b[38;5;241m3\u001b[39m,\u001b[38;5;241m4\u001b[39m])\n\u001b[1;32m      3\u001b[0m \u001b[38;5;28mprint\u001b[39m(v)\n",
      "\u001b[0;31mModuleNotFoundError\u001b[0m: No module named 'numpy'"
     ]
    }
   ],
   "source": [
    "import numpy as np\n",
    "v=np.array([1,2,2,3,4])\n",
    "print(v)"
   ]
  },
  {
   "cell_type": "code",
   "execution_count": null,
   "id": "3f426c60",
   "metadata": {},
   "outputs": [],
   "source": []
  }
 ],
 "metadata": {
  "kernelspec": {
   "display_name": "Python 3 (ipykernel)",
   "language": "python",
   "name": "python3"
  },
  "language_info": {
   "codemirror_mode": {
    "name": "ipython",
    "version": 3
   },
   "file_extension": ".py",
   "mimetype": "text/x-python",
   "name": "python",
   "nbconvert_exporter": "python",
   "pygments_lexer": "ipython3",
   "version": "3.11.1"
  }
 },
 "nbformat": 4,
 "nbformat_minor": 5
}
