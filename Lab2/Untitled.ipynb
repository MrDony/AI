{
 "cells": [
  {
   "cell_type": "code",
   "execution_count": 5,
   "id": "22f56832",
   "metadata": {},
   "outputs": [
    {
     "name": "stdout",
     "output_type": "stream",
     "text": [
      "Position: (0, 0, 0)\n",
      "Velocity: (10, 20, 30)\n",
      "New Position: (1, 2, 3)\n",
      "New Velocity: (11, 22, 33)\n"
     ]
    }
   ],
   "source": [
    "class Rocket:\n",
    "    def __init__(self, x, y, z, vx, vy, vz):\n",
    "        self.x = x\n",
    "        self.y = y\n",
    "        self.z = z\n",
    "        self.vx = vx\n",
    "        self.vy = vy\n",
    "        self.vz = vz\n",
    "\n",
    "    def get_position(self):\n",
    "        return self.x, self.y, self.z\n",
    "\n",
    "    def get_velocity(self):\n",
    "        return self.vx, self.vy, self.vz\n",
    "\n",
    "    def set_position(self, x, y, z):\n",
    "        self.x = x\n",
    "        self.y = y\n",
    "        self.z = z\n",
    "\n",
    "    def set_velocity(self, vx, vy, vz):\n",
    "        self.vx = vx\n",
    "        self.vy = vy\n",
    "        self.vz = vz\n",
    "\n",
    "rocket = Rocket(0, 0, 0, 10, 20, 30)\n",
    "print(\"Position:\", rocket.get_position())\n",
    "print(\"Velocity:\", rocket.get_velocity())\n",
    "\n",
    "rocket.set_position(1, 2, 3)\n",
    "rocket.set_velocity(11, 22, 33)\n",
    "\n",
    "print(\"New Position:\", rocket.get_position())\n",
    "print(\"New Velocity:\", rocket.get_velocity())\n"
   ]
  },
  {
   "cell_type": "code",
   "execution_count": 2,
   "id": "52c91f32",
   "metadata": {},
   "outputs": [
    {
     "name": "stdout",
     "output_type": "stream",
     "text": [
      "[1 2 2 3 4]\n"
     ]
    }
   ],
   "source": [
    "import numpy as np\n",
    "v=np.array([1,2,2,3,4])\n",
    "print(v)"
   ]
  },
  {
   "cell_type": "code",
   "execution_count": 3,
   "id": "3f426c60",
   "metadata": {},
   "outputs": [
    {
     "ename": "ImportError",
     "evalue": "cannot import name 'genfromtext' from 'numpy' (/Users/muhammadammarhaiderbaloch/Library/Python/3.9/lib/python/site-packages/numpy/__init__.py)",
     "output_type": "error",
     "traceback": [
      "\u001b[0;31m---------------------------------------------------------------------------\u001b[0m",
      "\u001b[0;31mImportError\u001b[0m                               Traceback (most recent call last)",
      "Cell \u001b[0;32mIn[3], line 1\u001b[0m\n\u001b[0;32m----> 1\u001b[0m \u001b[39mfrom\u001b[39;00m \u001b[39mnumpy\u001b[39;00m \u001b[39mimport\u001b[39;00m genfromtext\n\u001b[1;32m      2\u001b[0m data\u001b[39m=\u001b[39mgenfromtxt(\u001b[39m'\u001b[39m\u001b[39mtitanic.csv\u001b[39m\u001b[39m'\u001b[39m,delimiter\u001b[39m=\u001b[39m\u001b[39m'\u001b[39m\u001b[39m,\u001b[39m\u001b[39m'\u001b[39m)\n\u001b[1;32m      3\u001b[0m \u001b[39mprint\u001b[39m(data)\n",
      "\u001b[0;31mImportError\u001b[0m: cannot import name 'genfromtext' from 'numpy' (/Users/muhammadammarhaiderbaloch/Library/Python/3.9/lib/python/site-packages/numpy/__init__.py)"
     ]
    }
   ],
   "source": [
    "from numpy import genfromtext\n",
    "data=genfromtxt('titanic.csv',delimiter=',')\n",
    "print(data)"
   ]
  },
  {
   "cell_type": "code",
   "execution_count": null,
   "id": "d05d61a9",
   "metadata": {},
   "outputs": [],
   "source": []
  }
 ],
 "metadata": {
  "kernelspec": {
   "display_name": "Python 3",
   "language": "python",
   "name": "python3"
  },
  "language_info": {
   "codemirror_mode": {
    "name": "ipython",
    "version": 3
   },
   "file_extension": ".py",
   "mimetype": "text/x-python",
   "name": "python",
   "nbconvert_exporter": "python",
   "pygments_lexer": "ipython3",
   "version": "3.9.6 (default, Oct 18 2022, 12:41:40) \n[Clang 14.0.0 (clang-1400.0.29.202)]"
  },
  "vscode": {
   "interpreter": {
    "hash": "31f2aee4e71d21fbe5cf8b01ff0e069b9275f58929596ceb00d14d90e3e16cd6"
   }
  }
 },
 "nbformat": 4,
 "nbformat_minor": 5
}
